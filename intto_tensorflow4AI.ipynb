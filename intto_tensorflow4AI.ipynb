{
  "nbformat": 4,
  "nbformat_minor": 0,
  "metadata": {
    "colab": {
      "name": "Untitled3.ipynb",
      "version": "0.3.2",
      "provenance": [],
      "include_colab_link": true
    },
    "kernelspec": {
      "name": "python3",
      "display_name": "Python 3"
    }
  },
  "cells": [
    {
      "cell_type": "markdown",
      "metadata": {
        "id": "view-in-github",
        "colab_type": "text"
      },
      "source": [
        "<a href=\"https://colab.research.google.com/github/xie186/Introduction-to-TensorFlow-for-Artificial-Intelligence-Machine-Learning-and-Deep-Learning/blob/master/intto_tensorflow4AI.ipynb\" target=\"_parent\"><img src=\"https://colab.research.google.com/assets/colab-badge.svg\" alt=\"Open In Colab\"/></a>"
      ]
    },
    {
      "metadata": {
        "id": "_mIEpvoZOo-b",
        "colab_type": "code",
        "colab": {}
      },
      "cell_type": "code",
      "source": [
        ""
      ],
      "execution_count": 0,
      "outputs": []
    },
    {
      "metadata": {
        "id": "JfsbGk35OrA6",
        "colab_type": "text"
      },
      "cell_type": "markdown",
      "source": [
        "# Introduction to TensorFlow for Artificial Intelligence, Machine Learning, and Deep Learning\n"
      ]
    },
    {
      "metadata": {
        "id": "vZFw4BIIOufY",
        "colab_type": "text"
      },
      "cell_type": "markdown",
      "source": [
        "## Week1\n"
      ]
    },
    {
      "metadata": {
        "id": "VQwYAAZBO4PN",
        "colab_type": "text"
      },
      "cell_type": "markdown",
      "source": [
        ""
      ]
    },
    {
      "metadata": {
        "id": "AAHlM6yjOyyL",
        "colab_type": "text"
      },
      "cell_type": "markdown",
      "source": [
        "## Working through ‘Hello World’ in TensorFlow and Python\n",
        "\n"
      ]
    },
    {
      "metadata": {
        "id": "Snz4xRxeO192",
        "colab_type": "code",
        "colab": {}
      },
      "cell_type": "code",
      "source": [
        ""
      ],
      "execution_count": 0,
      "outputs": []
    }
  ]
}